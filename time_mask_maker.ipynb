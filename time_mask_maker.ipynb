{
 "cells": [
  {
   "cell_type": "code",
   "execution_count": 106,
   "metadata": {},
   "outputs": [],
   "source": [
    "import os\n",
    "import cv2\n",
    "import argparse\n",
    "import librosa\n",
    "import numpy as np\n",
    "\n",
    "import torch\n",
    "import torchaudio\n",
    "import torchaudio.transforms as T\n",
    "from torch.utils import data\n",
    "from torchvision import transforms\n",
    "from torch.utils.data import Dataset\n",
    "\n",
    "import matplotlib\n",
    "import matplotlib.pyplot as plt\n",
    "from IPython.display import Audio, display\n",
    "\n",
    "import easydict\n",
    "from sklearn.model_selection import train_test_split\n",
    "ALLMASKTYPES = ['time', 'bbox', 'freeform']"
   ]
  },
  {
   "cell_type": "code",
   "execution_count": 107,
   "metadata": {},
   "outputs": [],
   "source": [
    "opt = easydict.EasyDict({\n",
    "    \"data_dir\": '/data1/singing_inpainting/dataset',\n",
    "    \"input_length\": 220500,\n",
    "    \"image_height\": 1025,\n",
    "    \"image_width\": 431,\n",
    "    \"bbox_shape\": 120,\n",
    "    \"batch_size\": 1,\n",
    "    \"mask_type\" : 'time',\n",
    "    \"in_channels\" : 2,\n",
    "    \"out_channels\" : 1,\n",
    "    \"latent_channels\" : 32,\n",
    "    \"pad_type\": 'zero',\n",
    "    \"activation\": 'lrelu',\n",
    "    \"norm\": 'in',\n",
    "    })\n",
    "\n",
    "save_dir = '../split/fixedmask_time_2048'\n",
    "if not os.path.exists(save_dir):\n",
    "    os.makedirs(save_dir)"
   ]
  },
  {
   "cell_type": "code",
   "execution_count": 108,
   "metadata": {},
   "outputs": [],
   "source": [
    "mask_widths_seconds = []\n",
    "for i in range(0, 10):\n",
    "    mask_widths_seconds.append((i+1)/10)\n",
    "mask_widths = []\n",
    "for sec in mask_width_seconds:\n",
    "    mask_widths.append(int(np.round(431 / 5 * sec)))"
   ]
  },
  {
   "cell_type": "code",
   "execution_count": 109,
   "metadata": {},
   "outputs": [],
   "source": [
    "max_mask_frame = opt.image_width - max(mask_width_frames)\n",
    "mask_frames = []\n",
    "for i in range(0, int(max_mask_frame)):\n",
    "    mask_frames.append(i)"
   ]
  },
  {
   "cell_type": "code",
   "execution_count": 117,
   "metadata": {},
   "outputs": [],
   "source": [
    "num_of_mask = 1000\n",
    "for i in range(num_of_mask):\n",
    "    mask = np.zeros((opt.image_height, opt.image_width))\n",
    "    mask_width_idx = i % len(mask_widths)\n",
    "    mask_frame_idx = i % len(mask_frames)\n",
    "    mask[:,mask_frames[mask_frame_idx]:mask_frames[mask_frame_idx]+mask_widths[mask_width_idx]] = 1\n",
    "    np.save(os.path.join(save_dir, str(i) + '.npy'), np.expand_dims(mask, 0))\n",
    "#     plt.imshow(mask)\n",
    "#     plt.show()"
   ]
  }
 ],
 "metadata": {
  "kernelspec": {
   "display_name": "Python 3",
   "language": "python",
   "name": "python3"
  },
  "language_info": {
   "codemirror_mode": {
    "name": "ipython",
    "version": 3
   },
   "file_extension": ".py",
   "mimetype": "text/x-python",
   "name": "python",
   "nbconvert_exporter": "python",
   "pygments_lexer": "ipython3",
   "version": "3.7.7"
  }
 },
 "nbformat": 4,
 "nbformat_minor": 4
}
