{
 "cells": [
  {
   "cell_type": "code",
   "execution_count": 2,
   "metadata": {},
   "outputs": [],
   "source": [
    "import torch\n",
    "import torch.nn as nn\n",
    "import torch.nn.init as init\n",
    "from torchinfo import summary\n",
    "\n",
    "import easydict\n",
    "\n",
    "from network_module import *\n"
   ]
  },
  {
   "cell_type": "code",
   "execution_count": 2,
   "metadata": {},
   "outputs": [],
   "source": [
    "opt = easydict.EasyDict({\n",
    "    \"data_dir\": '../dataset',\n",
    "    \"input_length\": 220500,\n",
    "    \"image_height\": 1025,\n",
    "    \"image_width\": 431,\n",
    "    \"bbox_shape\": 120,\n",
    "    \"mask_type\": 'time_masking',\n",
    "    \"in_channels\" : 2,\n",
    "    \"out_channels\" : 1,\n",
    "    \"latent_channels\" : 32,\n",
    "    \"pad_type\": 'zero',\n",
    "    \"activation\": 'lrelu',\n",
    "    \"norm\":'in',\n",
    "    \"init_type\":'xavier',\n",
    "    \"init_gain\":0.02,\n",
    "    \"stage_num\": 1,\n",
    "    \"batch_size\": 4,\n",
    "    })"
   ]
  },
  {
   "cell_type": "code",
   "execution_count": 15,
   "metadata": {},
   "outputs": [],
   "source": [
    "class jj_Discriminator(nn.Module):\n",
    "    def __init__(self, input_nc=1, ndf=64, n_layers=3, norm_layer=nn.BatchNorm2d, use_sigmoid=True):\n",
    "        super(jj_Discriminator, self).__init__()\n",
    "        self.n_layers = n_layers\n",
    "        self.use_sigmoid = True\n",
    "        use_bias = norm_layer == nn.InstanceNorm2d\n",
    "        self.relu = nn.LeakyReLU(0.2, True)\n",
    "\n",
    "        self.conv1 = nn.Conv2d(input_nc, ndf, kernel_size=(1, 4), stride=(1, 2), padding=(0, 1), bias=use_bias)\n",
    "        self.bn1 = norm_layer(ndf)\n",
    "        nf_mult = 1\n",
    "        for n in range(1, n_layers):\n",
    "            nf_mult_prev = nf_mult\n",
    "            nf_mult = min(2**n, 8)\n",
    "            self.add_module('conv2_' + str(n), nn.Conv2d(ndf * nf_mult_prev, ndf * nf_mult,\n",
    "                          kernel_size=(3, 3), stride=2, padding=1, bias=use_bias))\n",
    "            self.add_module('norm_' + str(n), norm_layer(ndf * nf_mult))\n",
    "        nf_mult_prev = nf_mult\n",
    "        nf_mult = min(2**n_layers, 8)\n",
    "\n",
    "        self.conv3 = nn.Conv2d(ndf * nf_mult_prev, ndf * nf_mult,\n",
    "                      kernel_size=3, stride=1, padding=1, bias=use_bias)\n",
    "        self.norm3 = norm_layer(ndf * nf_mult)\n",
    "        self.conv4 = nn.Conv2d(ndf * nf_mult, 1,\n",
    "                      kernel_size=3, stride=1, padding=1, bias=use_bias)\n",
    "        if use_sigmoid:\n",
    "            self.sig = nn.Sigmoid()\n",
    "\n",
    "    def forward(self, input):\n",
    "        net = self.conv1(input)\n",
    "        netn = self.relu(self.bn1(net))\n",
    "        for n in range(1, self.n_layers):\n",
    "            netn = self._modules['conv2_' + str(n)](netn)\n",
    "            netn = self._modules['norm_' + str(n)](netn)\n",
    "            netn = self.relu(netn)\n",
    "        net = self.conv3(netn)\n",
    "        net = self.norm3(net)\n",
    "        net = self.relu(net)\n",
    "        net = self.conv4(net)\n",
    "        if self.use_sigmoid:\n",
    "            net = self.sig(net)\n",
    "        return net"
   ]
  },
  {
   "cell_type": "code",
   "execution_count": 16,
   "metadata": {},
   "outputs": [
    {
     "data": {
      "text/plain": [
       "==========================================================================================\n",
       "Layer (type:depth-idx)                   Output Shape              Param #\n",
       "==========================================================================================\n",
       "jj_Discriminator                         --                        --\n",
       "├─Conv2d: 1-1                            [4, 64, 1024, 214]        256\n",
       "├─BatchNorm2d: 1-2                       [4, 64, 1024, 214]        128\n",
       "├─LeakyReLU: 1-3                         [4, 64, 1024, 214]        --\n",
       "├─Conv2d: 1-4                            [4, 128, 512, 107]        73,728\n",
       "├─BatchNorm2d: 1-5                       [4, 128, 512, 107]        256\n",
       "├─LeakyReLU: 1-6                         [4, 128, 512, 107]        --\n",
       "├─Conv2d: 1-7                            [4, 256, 256, 54]         294,912\n",
       "├─BatchNorm2d: 1-8                       [4, 256, 256, 54]         512\n",
       "├─LeakyReLU: 1-9                         [4, 256, 256, 54]         --\n",
       "├─Conv2d: 1-10                           [4, 512, 256, 54]         1,179,648\n",
       "├─BatchNorm2d: 1-11                      [4, 512, 256, 54]         1,024\n",
       "├─LeakyReLU: 1-12                        [4, 512, 256, 54]         --\n",
       "├─Conv2d: 1-13                           [4, 1, 256, 54]           4,608\n",
       "├─Sigmoid: 1-14                          [4, 1, 256, 54]           --\n",
       "==========================================================================================\n",
       "Total params: 1,555,072\n",
       "Trainable params: 1,555,072\n",
       "Non-trainable params: 0\n",
       "Total mult-adds (G): 98.17\n",
       "==========================================================================================\n",
       "Input size (MB): 7.01\n",
       "Forward/backward pass size (MB): 2026.29\n",
       "Params size (MB): 6.22\n",
       "Estimated Total Size (MB): 2039.52\n",
       "=========================================================================================="
      ]
     },
     "execution_count": 16,
     "metadata": {},
     "output_type": "execute_result"
    }
   ],
   "source": [
    "discriminator = jj_Discriminator()\n",
    "summary(discriminator, (4, 1, 1024, 428), device='cpu')"
   ]
  },
  {
   "cell_type": "code",
   "execution_count": 47,
   "metadata": {},
   "outputs": [],
   "source": [
    "class jj_Discriminator(nn.Module):\n",
    "    def __init__(self, input_nc=2, ndf=64, n_layers=3, norm_layer=nn.BatchNorm2d, use_sigmoid=True):\n",
    "        super(jj_Discriminator2, self).__init__()\n",
    "        self.n_layers = n_layers\n",
    "        self.use_sigmoid = True\n",
    "        use_bias = norm_layer == nn.InstanceNorm2d\n",
    "        self.relu = nn.LeakyReLU(0.2, True)\n",
    "\n",
    "        self.conv1 = nn.Conv2d(input_nc, ndf, kernel_size=(1, 4), stride=(1, 2), padding=(0, 1), bias=use_bias)\n",
    "        self.bn1 = norm_layer(ndf)\n",
    "        nf_mult = 1\n",
    "        for n in range(1, n_layers):\n",
    "            nf_mult_prev = nf_mult\n",
    "            nf_mult = min(2**n, 8)\n",
    "            self.add_module('conv2_' + str(n), nn.Conv2d(ndf * nf_mult_prev, ndf * nf_mult,\n",
    "                          kernel_size=(3, 3), stride=2, padding=1, bias=use_bias))\n",
    "            self.add_module('norm_' + str(n), norm_layer(ndf * nf_mult))\n",
    "        nf_mult_prev = nf_mult\n",
    "        nf_mult = min(2**n_layers, 8)\n",
    "\n",
    "        self.conv3 = nn.Conv2d(ndf * nf_mult_prev, ndf * nf_mult,\n",
    "                      kernel_size=3, stride=1, padding=1, bias=use_bias)\n",
    "        self.norm3 = norm_layer(ndf * nf_mult)\n",
    "        self.conv4 = nn.Conv2d(ndf * nf_mult, 1,\n",
    "                      kernel_size=3, stride=1, padding=1, bias=use_bias)\n",
    "        self.fc1 = nn.Linear(256*54, 1)\n",
    "        if use_sigmoid:\n",
    "            self.sig = nn.Sigmoid()\n",
    "\n",
    "    def forward(self, input, mask):\n",
    "        batch_size = input.shape[0]\n",
    "        input_cat = torch.cat([input, mask], 1)\n",
    "        net = self.conv1(input_cat)\n",
    "        netn = self.relu(self.bn1(net))\n",
    "        for n in range(1, self.n_layers):\n",
    "            netn = self._modules['conv2_' + str(n)](netn)\n",
    "            netn = self._modules['norm_' + str(n)](netn)\n",
    "            netn = self.relu(netn)\n",
    "        net = self.conv3(netn)\n",
    "        net = self.norm3(net)\n",
    "        net = self.relu(net)\n",
    "        net = self.conv4(net)\n",
    "        net = net.view(batch_size, -1)\n",
    "        net = self.fc1(net)\n",
    "        if self.use_sigmoid:\n",
    "            net = self.sig(net)\n",
    "        return net"
   ]
  },
  {
   "cell_type": "code",
   "execution_count": 48,
   "metadata": {},
   "outputs": [
    {
     "data": {
      "text/plain": [
       "==========================================================================================\n",
       "Layer (type:depth-idx)                   Output Shape              Param #\n",
       "==========================================================================================\n",
       "jj_Discriminator2                        --                        --\n",
       "├─Conv2d: 1-1                            [4, 64, 1024, 214]        512\n",
       "├─BatchNorm2d: 1-2                       [4, 64, 1024, 214]        128\n",
       "├─LeakyReLU: 1-3                         [4, 64, 1024, 214]        --\n",
       "├─Conv2d: 1-4                            [4, 128, 512, 107]        73,728\n",
       "├─BatchNorm2d: 1-5                       [4, 128, 512, 107]        256\n",
       "├─LeakyReLU: 1-6                         [4, 128, 512, 107]        --\n",
       "├─Conv2d: 1-7                            [4, 256, 256, 54]         294,912\n",
       "├─BatchNorm2d: 1-8                       [4, 256, 256, 54]         512\n",
       "├─LeakyReLU: 1-9                         [4, 256, 256, 54]         --\n",
       "├─Conv2d: 1-10                           [4, 512, 256, 54]         1,179,648\n",
       "├─BatchNorm2d: 1-11                      [4, 512, 256, 54]         1,024\n",
       "├─LeakyReLU: 1-12                        [4, 512, 256, 54]         --\n",
       "├─Conv2d: 1-13                           [4, 1, 256, 54]           4,608\n",
       "├─Linear: 1-14                           [4, 1]                    13,825\n",
       "├─Sigmoid: 1-15                          [4, 1]                    --\n",
       "==========================================================================================\n",
       "Total params: 1,569,153\n",
       "Trainable params: 1,569,153\n",
       "Non-trainable params: 0\n",
       "Total mult-adds (G): 98.40\n",
       "==========================================================================================\n",
       "Input size (MB): 14.02\n",
       "Forward/backward pass size (MB): 2026.29\n",
       "Params size (MB): 6.28\n",
       "Estimated Total Size (MB): 2046.59\n",
       "=========================================================================================="
      ]
     },
     "execution_count": 48,
     "metadata": {},
     "output_type": "execute_result"
    }
   ],
   "source": [
    "discriminator = jj_Discriminator()\n",
    "summary(discriminator, [(4, 1, 1024, 428), (4, 1, 1024, 428)],  device='cpu')"
   ]
  },
  {
   "cell_type": "code",
   "execution_count": 48,
   "metadata": {},
   "outputs": [],
   "source": [
    "a = torch.rand([4, 1])"
   ]
  },
  {
   "cell_type": "code",
   "execution_count": 50,
   "metadata": {},
   "outputs": [
    {
     "data": {
      "text/plain": [
       "(tensor(0.5344), tensor(0.5344))"
      ]
     },
     "execution_count": 50,
     "metadata": {},
     "output_type": "execute_result"
    }
   ],
   "source": [
    "torch.mean(a), a.mean()"
   ]
  },
  {
   "cell_type": "code",
   "execution_count": 35,
   "metadata": {},
   "outputs": [],
   "source": [
    "\n",
    "class Discriminator(nn.Module):\n",
    "    def __init__(self, img_size, dim):\n",
    "        \"\"\"\n",
    "        img_size : (int, int, int)\n",
    "            Height and width must be powers of 2.  E.g. (32, 32, 1) or\n",
    "            (64, 128, 3). Last number indicates number of channels, e.g. 1 for\n",
    "            grayscale or 3 for RGB\n",
    "        \"\"\"\n",
    "        super(Discriminator, self).__init__()\n",
    "\n",
    "        self.img_size = img_size\n",
    "\n",
    "        self.image_to_features = nn.Sequential(\n",
    "            nn.Conv2d(self.img_size[2], dim, 4, 2, 1),\n",
    "            nn.LeakyReLU(0.2),\n",
    "            nn.Conv2d(dim, 2 * dim, 4, 2, 1),\n",
    "            nn.LeakyReLU(0.2),\n",
    "            nn.Conv2d(2 * dim, 4 * dim, 4, 2, 1),\n",
    "            nn.LeakyReLU(0.2),\n",
    "            nn.Conv2d(4 * dim, 8 * dim, 4, 2, 1),\n",
    "            nn.Sigmoid()\n",
    "        )\n",
    "\n",
    "        # 4 convolutions of stride 2, i.e. halving of size everytime\n",
    "        # So output size will be 8 * (img_size / 2 ^ 4) * (img_size / 2 ^ 4)\n",
    "        output_size = int(8 * dim * (img_size[0] / 16) * (img_size[1] / 16))\n",
    "        self.features_to_prob = nn.Sequential(\n",
    "            nn.Linear(output_size, 1),\n",
    "            nn.Sigmoid()\n",
    "        )\n",
    "\n",
    "    def forward(self, input_data):\n",
    "        batch_size = input_data.size()[0]\n",
    "        x = self.image_to_features(input_data)\n",
    "        x = x.view(batch_size, -1)\n",
    "        return self.features_to_prob(x)"
   ]
  },
  {
   "cell_type": "code",
   "execution_count": 38,
   "metadata": {},
   "outputs": [],
   "source": [
    "discriminator = Discriminator(img_size=[256, 256, 1], dim=32)"
   ]
  },
  {
   "cell_type": "code",
   "execution_count": 41,
   "metadata": {
    "scrolled": true
   },
   "outputs": [
    {
     "data": {
      "text/plain": [
       "==========================================================================================\n",
       "Layer (type:depth-idx)                   Output Shape              Param #\n",
       "==========================================================================================\n",
       "Discriminator                            --                        --\n",
       "├─Sequential: 1-1                        [4, 256, 16, 16]          --\n",
       "│    └─Conv2d: 2-1                       [4, 32, 128, 128]         544\n",
       "│    └─LeakyReLU: 2-2                    [4, 32, 128, 128]         --\n",
       "│    └─Conv2d: 2-3                       [4, 64, 64, 64]           32,832\n",
       "│    └─LeakyReLU: 2-4                    [4, 64, 64, 64]           --\n",
       "│    └─Conv2d: 2-5                       [4, 128, 32, 32]          131,200\n",
       "│    └─LeakyReLU: 2-6                    [4, 128, 32, 32]          --\n",
       "│    └─Conv2d: 2-7                       [4, 256, 16, 16]          524,544\n",
       "│    └─Sigmoid: 2-8                      [4, 256, 16, 16]          --\n",
       "├─Sequential: 1-2                        [4, 1]                    --\n",
       "│    └─Linear: 2-9                       [4, 1]                    65,537\n",
       "│    └─Sigmoid: 2-10                     [4, 1]                    --\n",
       "==========================================================================================\n",
       "Total params: 754,657\n",
       "Trainable params: 754,657\n",
       "Non-trainable params: 0\n",
       "Total mult-adds (G): 1.65\n",
       "==========================================================================================\n",
       "Input size (MB): 1.05\n",
       "Forward/backward pass size (MB): 31.46\n",
       "Params size (MB): 3.02\n",
       "Estimated Total Size (MB): 35.52\n",
       "=========================================================================================="
      ]
     },
     "execution_count": 41,
     "metadata": {},
     "output_type": "execute_result"
    }
   ],
   "source": [
    "summary(discriminator, (4, 1, 256, 256), device='cpu')"
   ]
  }
 ],
 "metadata": {
  "kernelspec": {
   "display_name": "Python 3",
   "language": "python",
   "name": "python3"
  },
  "language_info": {
   "codemirror_mode": {
    "name": "ipython",
    "version": 3
   },
   "file_extension": ".py",
   "mimetype": "text/x-python",
   "name": "python",
   "nbconvert_exporter": "python",
   "pygments_lexer": "ipython3",
   "version": "3.7.7"
  }
 },
 "nbformat": 4,
 "nbformat_minor": 4
}
