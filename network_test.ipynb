{
 "cells": [
  {
   "cell_type": "code",
   "execution_count": 1,
   "metadata": {},
   "outputs": [],
   "source": [
    "import torch\n",
    "import torch.nn as nn\n",
    "import torch.nn.init as init\n",
    "from torchinfo import summary\n",
    "\n",
    "import easydict\n",
    "\n",
    "from network_module import *\n"
   ]
  },
  {
   "cell_type": "code",
   "execution_count": 221,
   "metadata": {},
   "outputs": [],
   "source": [
    "opt = easydict.EasyDict({\n",
    "    \"data_dir\": '../dataset',\n",
    "    \"input_length\": 220500,\n",
    "    \"image_height\": 1025,\n",
    "    \"image_width\": 431,\n",
    "    \"bbox_shape\": 120,\n",
    "    \"mask_type\": 'time_masking',\n",
    "    \"in_channels\" : 2,\n",
    "    \"out_channels\" : 1,\n",
    "    \"latent_channels\" : 32,\n",
    "    \"pad_type\": 'zero',\n",
    "    \"activation\": 'lrelu',\n",
    "    \"norm\":'in',\n",
    "    \"init_type\":'xavier',\n",
    "    \"init_gain\":0.02,\n",
    "    \"stage_num\": 1,\n",
    "    \"batch_size\": 4,\n",
    "    \"msd_latent\" : 32,\n",
    "    })"
   ]
  },
  {
   "cell_type": "code",
   "execution_count": 13,
   "metadata": {},
   "outputs": [],
   "source": [
    "class PatchDiscriminator(nn.Module):\n",
    "    def __init__(self, opt):\n",
    "        super(PatchDiscriminator, self).__init__()\n",
    "        # Down sampling\n",
    "        self.block1 = Conv2dLayer(3, opt.latent_channels, 7, 1, 3, pad_type = opt.pad_type, activation = opt.activation, norm = 'none', sn = True)\n",
    "        self.block2 = Conv2dLayer(opt.latent_channels, opt.latent_channels * 2, 4, 2, 1, pad_type = opt.pad_type, activation = opt.activation, norm = opt.norm, sn = True)\n",
    "        self.block3 = Conv2dLayer(opt.latent_channels * 2, opt.latent_channels * 4, 4, 2, 1, pad_type = opt.pad_type, activation = opt.activation, norm = opt.norm, sn = True)\n",
    "        self.block4 = Conv2dLayer(opt.latent_channels * 4, opt.latent_channels * 4, 4, 2, 1, pad_type = opt.pad_type, activation = opt.activation, norm = opt.norm, sn = True)\n",
    "        self.block5 = Conv2dLayer(opt.latent_channels * 4, opt.latent_channels * 4, 4, 2, 1, pad_type = opt.pad_type, activation = opt.activation, norm = opt.norm, sn = True)\n",
    "        self.block6 = Conv2dLayer(opt.latent_channels * 4, 1, 4, 2, 1, pad_type = opt.pad_type, activation = 'none', norm = 'none', sn = True)\n",
    "        \n",
    "    def forward(self, img, mask):\n",
    "        # the input x should contain 4 channels because it is a combination of recon image and mask\n",
    "        x = torch.cat((img, mask), 1)\n",
    "        x = self.block1(x)                                      # out: [B, 64, 256, 256]\n",
    "        x = self.block2(x)                                      # out: [B, 128, 128, 128]\n",
    "        x = self.block3(x)                                      # out: [B, 256, 64, 64]\n",
    "        x = self.block4(x)                                      # out: [B, 256, 32, 32]\n",
    "        x = self.block5(x)                                      # out: [B, 256, 16, 16]\n",
    "        x = self.block6(x)                                      # out: [B, 256, 8, 8]\n",
    "        return x"
   ]
  },
  {
   "cell_type": "code",
   "execution_count": 14,
   "metadata": {},
   "outputs": [
    {
     "data": {
      "text/plain": [
       "==========================================================================================\n",
       "Layer (type:depth-idx)                   Output Shape              Param #\n",
       "==========================================================================================\n",
       "PatchDiscriminator                       --                        --\n",
       "├─Conv2dLayer: 1-1                       [4, 32, 1024, 428]        --\n",
       "│    └─ZeroPad2d: 2-1                    [4, 3, 1030, 434]         --\n",
       "│    └─SpectralNorm: 2-2                 [4, 32, 1024, 428]        --\n",
       "│    └─LeakyReLU: 2-3                    [4, 32, 1024, 428]        --\n",
       "├─Conv2dLayer: 1-2                       [4, 64, 512, 214]         --\n",
       "│    └─ZeroPad2d: 2-4                    [4, 32, 1026, 430]        --\n",
       "│    └─SpectralNorm: 2-5                 [4, 64, 512, 214]         --\n",
       "│    └─InstanceNorm2d: 2-6               [4, 64, 512, 214]         --\n",
       "│    └─LeakyReLU: 2-7                    [4, 64, 512, 214]         --\n",
       "├─Conv2dLayer: 1-3                       [4, 128, 256, 107]        --\n",
       "│    └─ZeroPad2d: 2-8                    [4, 64, 514, 216]         --\n",
       "│    └─SpectralNorm: 2-9                 [4, 128, 256, 107]        --\n",
       "│    └─InstanceNorm2d: 2-10              [4, 128, 256, 107]        --\n",
       "│    └─LeakyReLU: 2-11                   [4, 128, 256, 107]        --\n",
       "├─Conv2dLayer: 1-4                       [4, 128, 128, 53]         --\n",
       "│    └─ZeroPad2d: 2-12                   [4, 128, 258, 109]        --\n",
       "│    └─SpectralNorm: 2-13                [4, 128, 128, 53]         --\n",
       "│    └─InstanceNorm2d: 2-14              [4, 128, 128, 53]         --\n",
       "│    └─LeakyReLU: 2-15                   [4, 128, 128, 53]         --\n",
       "├─Conv2dLayer: 1-5                       [4, 128, 64, 26]          --\n",
       "│    └─ZeroPad2d: 2-16                   [4, 128, 130, 55]         --\n",
       "│    └─SpectralNorm: 2-17                [4, 128, 64, 26]          --\n",
       "│    └─InstanceNorm2d: 2-18              [4, 128, 64, 26]          --\n",
       "│    └─LeakyReLU: 2-19                   [4, 128, 64, 26]          --\n",
       "├─Conv2dLayer: 1-6                       [4, 1, 32, 13]            --\n",
       "│    └─ZeroPad2d: 2-20                   [4, 128, 66, 28]          --\n",
       "│    └─SpectralNorm: 2-21                [4, 1, 32, 13]            --\n",
       "==========================================================================================\n",
       "Total params: 0\n",
       "Trainable params: 0\n",
       "Non-trainable params: 0\n",
       "Total mult-adds (M): 0.00\n",
       "==========================================================================================\n",
       "Input size (MB): 21.04\n",
       "Forward/backward pass size (MB): 0.00\n",
       "Params size (MB): 0.00\n",
       "Estimated Total Size (MB): 21.04\n",
       "=========================================================================================="
      ]
     },
     "execution_count": 14,
     "metadata": {},
     "output_type": "execute_result"
    }
   ],
   "source": [
    "discriminator = PatchDiscriminator(opt)\n",
    "summary(discriminator, [(4, 2, 1024, 428), (4, 1, 1024, 428)], device='cpu')"
   ]
  },
  {
   "cell_type": "code",
   "execution_count": 47,
   "metadata": {},
   "outputs": [],
   "source": [
    "[4, 1, 32, 13]"
   ]
  },
  {
   "cell_type": "code",
   "execution_count": 48,
   "metadata": {},
   "outputs": [
    {
     "data": {
      "text/plain": [
       "==========================================================================================\n",
       "Layer (type:depth-idx)                   Output Shape              Param #\n",
       "==========================================================================================\n",
       "jj_Discriminator2                        --                        --\n",
       "├─Conv2d: 1-1                            [4, 64, 1024, 214]        512\n",
       "├─BatchNorm2d: 1-2                       [4, 64, 1024, 214]        128\n",
       "├─LeakyReLU: 1-3                         [4, 64, 1024, 214]        --\n",
       "├─Conv2d: 1-4                            [4, 128, 512, 107]        73,728\n",
       "├─BatchNorm2d: 1-5                       [4, 128, 512, 107]        256\n",
       "├─LeakyReLU: 1-6                         [4, 128, 512, 107]        --\n",
       "├─Conv2d: 1-7                            [4, 256, 256, 54]         294,912\n",
       "├─BatchNorm2d: 1-8                       [4, 256, 256, 54]         512\n",
       "├─LeakyReLU: 1-9                         [4, 256, 256, 54]         --\n",
       "├─Conv2d: 1-10                           [4, 512, 256, 54]         1,179,648\n",
       "├─BatchNorm2d: 1-11                      [4, 512, 256, 54]         1,024\n",
       "├─LeakyReLU: 1-12                        [4, 512, 256, 54]         --\n",
       "├─Conv2d: 1-13                           [4, 1, 256, 54]           4,608\n",
       "├─Linear: 1-14                           [4, 1]                    13,825\n",
       "├─Sigmoid: 1-15                          [4, 1]                    --\n",
       "==========================================================================================\n",
       "Total params: 1,569,153\n",
       "Trainable params: 1,569,153\n",
       "Non-trainable params: 0\n",
       "Total mult-adds (G): 98.40\n",
       "==========================================================================================\n",
       "Input size (MB): 14.02\n",
       "Forward/backward pass size (MB): 2026.29\n",
       "Params size (MB): 6.28\n",
       "Estimated Total Size (MB): 2046.59\n",
       "=========================================================================================="
      ]
     },
     "execution_count": 48,
     "metadata": {},
     "output_type": "execute_result"
    }
   ],
   "source": [
    "discriminator = PatchDiscriminator(opt)\n",
    "summary(discriminator, [(4, 2, 1024, 428), (4, 1, 1024, 428)], device='cpu')discriminator = jj_Discriminator()\n",
    "summary(discriminator, [(4, 1, 1024, 428), (4, 1, 1024, 428)],  device='cpu')"
   ]
  },
  {
   "cell_type": "code",
   "execution_count": 135,
   "metadata": {},
   "outputs": [],
   "source": [
    "inp_spec = torch.zeros([4, 1, 1024, 428])"
   ]
  },
  {
   "cell_type": "code",
   "execution_count": null,
   "metadata": {},
   "outputs": [],
   "source": [
    "class Multi_Scale_Discriminator(nn.Module):\n",
    "    def __init__(self, opt):\n",
    "        super(multi_scale_discriminator, self).__init__()\n",
    "        self.frame_lengths = [16, 32, 64, 128]\n",
    "        \n",
    "        self.scale0_discriminator = Scale0_Discriminator()\n",
    "        self.scale1_discriminator = Scale1_Discriminator()\n",
    "        self.scale2_discriminator = Scale2_Discriminator()\n",
    "        self.scale3_discriminator = Scale3_Discriminator()\n",
    "        \n",
    "    def make_scale_input(self, frame_length, mask_start, mask_end, max_time_index):\n",
    "        spec_end_start = mask_start + 0.5 * frame_length\n",
    "        spec_end_end = mask_end + 0.5 * frame_length\n",
    "        spec_end = (torch.rand(self.batch_size) * (spec_end_end - spec_end_start + 1) + spec_end_start).int()        \n",
    "        spec_end = torch.min(spec_end, max_time_index)\n",
    "        spec_start = spec_end - frame_length\n",
    "        spec_start = torch.max(spec_start, 0)\n",
    "        return spec_start\n",
    "    \n",
    "    def forward(self, img, mask, mask_start, mask_end):\n",
    "        self.batch_size = img.shape[0]\n",
    "        scale0_spec_start = self.make_scale_input(self.frame_lengths[0], mask_start, mask_end, img.shape[-1]-1)\n",
    "        scale1_spec_start = self.make_scale_input(self.frame_lengths[1], mask_start, mask_end, img.shape[-1]-1)\n",
    "        scale2_spec_start = self.make_scale_input(self.frame_lengths[2], mask_start, mask_end, img.shape[-1]-1)\n",
    "        scale3_spec_start = self.make_scale_input(self.frame_lengths[3], mask_start, mask_end, img.shape[-1]-1)\n",
    "                \n",
    "        scale0_output = self.scale0_discriminator(img[...,scale0_spec_start:scale0_spec_start + frame_lengths[0] + 1])\n",
    "        scale1_output = self.scale1_discriminator(img[...,scale1_spec_start:scale1_spec_start + frame_lengths[1] + 1])\n",
    "        scale2_output = self.scale2_discriminator(img[...,scale2_spec_start:scale2_spec_start + frame_lengths[2] + 1])\n",
    "        scale3_output = self.scale3_discriminator(img[...,scale3_spec_start:scale3_spec_start + frame_lengths[3] + 1])\n",
    "        \n",
    "        return scale1_output, scale2_output, scale3_output, scale4_output"
   ]
  },
  {
   "cell_type": "code",
   "execution_count": 238,
   "metadata": {},
   "outputs": [],
   "source": [
    "class Scale0_Discriminator(nn.Module):\n",
    "    def __init__(self, opt):\n",
    "        super(Scale0_Discriminator, self).__init__()\n",
    "        # Down sampling\n",
    "        self.block1 = Conv2dLayer(1, opt.msd_latent, (7,4), 1, 3, pad_type = opt.pad_type, activation = opt.activation, norm = 'none', sn = True)\n",
    "        self.block2 = Conv2dLayer(opt.msd_latent, opt.latent_channels * 2, 4, (2,1), 1, pad_type = opt.pad_type, activation = opt.activation, norm = opt.norm, sn = True)\n",
    "        self.block3 = Conv2dLayer(opt.msd_latent * 2, opt.latent_channels * 4, 4, (2,2), 1, pad_type = opt.pad_type, activation = opt.activation, norm = opt.norm, sn = True)\n",
    "        self.block4 = Conv2dLayer(opt.msd_latent * 4, opt.latent_channels * 4, 4, (2,2), 1, pad_type = opt.pad_type, activation = opt.activation, norm = opt.norm, sn = True)\n",
    "        self.block5 = Conv2dLayer(opt.msd_latent * 4, opt.latent_channels * 4, 4, (2,2), 1, pad_type = opt.pad_type, activation = opt.activation, norm = opt.norm, sn = True)\n",
    "        self.block6 = Conv2dLayer(opt.msd_latent * 4, 1, 4, 2, 1, pad_type = opt.pad_type, activation = 'none', norm = 'none', sn = True)\n",
    "        \n",
    "    def forward(self, img):\n",
    "        # the input x should contain 4 channels because it is a combination of recon image and mask\n",
    "        x = img\n",
    "        x = self.block1(x)                                      # out: [B, 64, 256, 256]\n",
    "        x = self.block2(x)                                      # out: [B, 128, 128, 128]\n",
    "        x = self.block3(x)                                      # out: [B, 256, 64, 64]\n",
    "        x = self.block4(x)                                      # out: [B, 256, 32, 32]\n",
    "        x = self.block5(x)                                      # out: [B, 256, 16, 16]\n",
    "        x = self.block6(x)                                      # out: [B, 256, 8, 8]\n",
    "        return x\n",
    "\n",
    "class Scale1_Discriminator(nn.Module):\n",
    "    def __init__(self, opt):\n",
    "        super(Scale1_Discriminator, self).__init__()\n",
    "        # Down sampling\n",
    "        self.block1 = Conv2dLayer(1, opt.msd_latent, 7, 1, 3, pad_type = opt.pad_type, activation = opt.activation, norm = 'none', sn = True)\n",
    "        self.block2 = Conv2dLayer(opt.msd_latent, opt.latent_channels * 2, 4, 2, 1, pad_type = opt.pad_type, activation = opt.activation, norm = opt.norm, sn = True)\n",
    "        self.block3 = Conv2dLayer(opt.msd_latent * 2, opt.latent_channels * 4, 4, 2, 1, pad_type = opt.pad_type, activation = opt.activation, norm = opt.norm, sn = True)\n",
    "        self.block4 = Conv2dLayer(opt.msd_latent * 4, opt.latent_channels * 4, 4, 2, 1, pad_type = opt.pad_type, activation = opt.activation, norm = opt.norm, sn = True)\n",
    "        self.block5 = Conv2dLayer(opt.msd_latent * 4, opt.latent_channels * 4, 4, 2, 1, pad_type = opt.pad_type, activation = opt.activation, norm = opt.norm, sn = True)\n",
    "        self.block6 = Conv2dLayer(opt.msd_latent * 4, 1, 4, 2, 1, pad_type = opt.pad_type, activation = 'none', norm = 'none', sn = True)\n",
    "        \n",
    "    def forward(self, img):\n",
    "        # the input x should contain 4 channels because it is a combination of recon image and mask\n",
    "        x = img\n",
    "        x = self.block1(x)                                      # out: [B, 64, 256, 256]\n",
    "        x = self.block2(x)                                      # out: [B, 128, 128, 128]\n",
    "        x = self.block3(x)                                      # out: [B, 256, 64, 64]\n",
    "        x = self.block4(x)                                      # out: [B, 256, 32, 32]\n",
    "        x = self.block5(x)                                      # out: [B, 256, 16, 16]\n",
    "        x = self.block6(x)                                      # out: [B, 256, 8, 8]\n",
    "        return x\n",
    "\n",
    "class Scale2_Discriminator(nn.Module):\n",
    "    def __init__(self, opt):\n",
    "        super(Scale2_Discriminator, self).__init__()\n",
    "        # Down sampling\n",
    "        self.block1 = Conv2dLayer(1, opt.msd_latent, 7, 1, 3, pad_type = opt.pad_type, activation = opt.activation, norm = 'none', sn = True)\n",
    "        self.block2 = Conv2dLayer(opt.msd_latent, opt.latent_channels * 2, 4, 2, 1, pad_type = opt.pad_type, activation = opt.activation, norm = opt.norm, sn = True)\n",
    "        self.block3 = Conv2dLayer(opt.msd_latent * 2, opt.latent_channels * 4, 4, 2, 1, pad_type = opt.pad_type, activation = opt.activation, norm = opt.norm, sn = True)\n",
    "        self.block4 = Conv2dLayer(opt.msd_latent * 4, opt.latent_channels * 4, 4, 2, 1, pad_type = opt.pad_type, activation = opt.activation, norm = opt.norm, sn = True)\n",
    "        self.block5 = Conv2dLayer(opt.msd_latent * 4, opt.latent_channels * 4, 4, 2, 1, pad_type = opt.pad_type, activation = opt.activation, norm = opt.norm, sn = True)\n",
    "        self.block6 = Conv2dLayer(opt.msd_latent * 4, 1, 4, 2, 1, pad_type = opt.pad_type, activation = 'none', norm = 'none', sn = True)\n",
    "        \n",
    "    def forward(self, img):\n",
    "        # the input x should contain 4 channels because it is a combination of recon image and mask\n",
    "        x = img\n",
    "        x = self.block1(x)                                      # out: [B, 64, 256, 256]\n",
    "        x = self.block2(x)                                      # out: [B, 128, 128, 128]\n",
    "        x = self.block3(x)                                      # out: [B, 256, 64, 64]\n",
    "        x = self.block4(x)                                      # out: [B, 256, 32, 32]\n",
    "        x = self.block5(x)                                      # out: [B, 256, 16, 16]\n",
    "        x = self.block6(x)                                      # out: [B, 256, 8, 8]\n",
    "        return x\n",
    "    \n",
    "class Scale3_Discriminator(nn.Module):\n",
    "    def __init__(self, opt):\n",
    "        super(Scale3_Discriminator, self).__init__()\n",
    "        # Down sampling\n",
    "        self.block1 = Conv2dLayer(1, opt.msd_latent, 7, 1, 3, pad_type = opt.pad_type, activation = opt.activation, norm = 'none', sn = True)\n",
    "        self.block2 = Conv2dLayer(opt.msd_latent, opt.latent_channels * 2, 4, 2, 1, pad_type = opt.pad_type, activation = opt.activation, norm = opt.norm, sn = True)\n",
    "        self.block3 = Conv2dLayer(opt.msd_latent * 2, opt.latent_channels * 4, 4, 2, 1, pad_type = opt.pad_type, activation = opt.activation, norm = opt.norm, sn = True)\n",
    "        self.block4 = Conv2dLayer(opt.msd_latent * 4, opt.latent_channels * 4, 4, 2, 1, pad_type = opt.pad_type, activation = opt.activation, norm = opt.norm, sn = True)\n",
    "        self.block5 = Conv2dLayer(opt.msd_latent * 4, opt.latent_channels * 4, 4, 2, 1, pad_type = opt.pad_type, activation = opt.activation, norm = opt.norm, sn = True)\n",
    "        self.block6 = Conv2dLayer(opt.msd_latent * 4, 1, 4, 2, 1, pad_type = opt.pad_type, activation = 'none', norm = 'none', sn = True)\n",
    "        \n",
    "    def forward(self, img):\n",
    "        # the input x should contain 4 channels because it is a combination of recon image and mask\n",
    "        x = img\n",
    "        x = self.block1(x)                                      # out: [B, 64, 256, 256]\n",
    "        x = self.block2(x)                                      # out: [B, 128, 128, 128]\n",
    "        x = self.block3(x)                                      # out: [B, 256, 64, 64]\n",
    "        x = self.block4(x)                                      # out: [B, 256, 32, 32]\n",
    "        x = self.block5(x)                                      # out: [B, 256, 16, 16]\n",
    "        x = self.block6(x)                                      # out: [B, 256, 8, 8]\n",
    "        return x    "
   ]
  },
  {
   "cell_type": "code",
   "execution_count": 239,
   "metadata": {},
   "outputs": [
    {
     "name": "stdout",
     "output_type": "stream",
     "text": [
      "torch.Size([4, 1, 32])\n"
     ]
    },
    {
     "data": {
      "text/plain": [
       "==========================================================================================\n",
       "Layer (type:depth-idx)                   Output Shape              Param #\n",
       "==========================================================================================\n",
       "Scale3_Discriminator                     --                        --\n",
       "├─Conv2dLayer: 1-1                       [4, 32, 1024, 128]        --\n",
       "│    └─ZeroPad2d: 2-1                    [4, 1, 1030, 134]         --\n",
       "│    └─SpectralNorm: 2-2                 [4, 32, 1024, 128]        --\n",
       "│    └─LeakyReLU: 2-3                    [4, 32, 1024, 128]        --\n",
       "├─Conv2dLayer: 1-2                       [4, 64, 512, 64]          --\n",
       "│    └─ZeroPad2d: 2-4                    [4, 32, 1026, 130]        --\n",
       "│    └─SpectralNorm: 2-5                 [4, 64, 512, 64]          --\n",
       "│    └─InstanceNorm2d: 2-6               [4, 64, 512, 64]          --\n",
       "│    └─LeakyReLU: 2-7                    [4, 64, 512, 64]          --\n",
       "├─Conv2dLayer: 1-3                       [4, 128, 256, 32]         --\n",
       "│    └─ZeroPad2d: 2-8                    [4, 64, 514, 66]          --\n",
       "│    └─SpectralNorm: 2-9                 [4, 128, 256, 32]         --\n",
       "│    └─InstanceNorm2d: 2-10              [4, 128, 256, 32]         --\n",
       "│    └─LeakyReLU: 2-11                   [4, 128, 256, 32]         --\n",
       "├─Conv2dLayer: 1-4                       [4, 128, 128, 16]         --\n",
       "│    └─ZeroPad2d: 2-12                   [4, 128, 258, 34]         --\n",
       "│    └─SpectralNorm: 2-13                [4, 128, 128, 16]         --\n",
       "│    └─InstanceNorm2d: 2-14              [4, 128, 128, 16]         --\n",
       "│    └─LeakyReLU: 2-15                   [4, 128, 128, 16]         --\n",
       "├─Conv2dLayer: 1-5                       [4, 128, 64, 8]           --\n",
       "│    └─ZeroPad2d: 2-16                   [4, 128, 130, 18]         --\n",
       "│    └─SpectralNorm: 2-17                [4, 128, 64, 8]           --\n",
       "│    └─InstanceNorm2d: 2-18              [4, 128, 64, 8]           --\n",
       "│    └─LeakyReLU: 2-19                   [4, 128, 64, 8]           --\n",
       "├─Conv2dLayer: 1-6                       [4, 1, 32, 4]             --\n",
       "│    └─ZeroPad2d: 2-20                   [4, 128, 66, 10]          --\n",
       "│    └─SpectralNorm: 2-21                [4, 1, 32, 4]             --\n",
       "==========================================================================================\n",
       "Total params: 0\n",
       "Trainable params: 0\n",
       "Non-trainable params: 0\n",
       "Total mult-adds (M): 0.00\n",
       "==========================================================================================\n",
       "Input size (MB): 2.10\n",
       "Forward/backward pass size (MB): 0.00\n",
       "Params size (MB): 0.00\n",
       "Estimated Total Size (MB): 2.10\n",
       "=========================================================================================="
      ]
     },
     "execution_count": 239,
     "metadata": {},
     "output_type": "execute_result"
    }
   ],
   "source": [
    "# discriminator = Scale0_Discriminator(opt)\n",
    "# summary(discriminator, (4, 1, 1024, 16), device='cpu')\n",
    "\n",
    "# discriminator = Scale1_Discriminator(opt)\n",
    "# summary(discriminator, (4, 1, 1024, 32), device='cpu')\n",
    "\n",
    "# discriminator = Scale2_Discriminator(opt)\n",
    "# summary(discriminator, (4, 1, 1024, 64), device='cpu')\n",
    "\n",
    "discriminator = Scale3_Discriminator(opt)\n",
    "summary(discriminator, (4, 1, 1024, 128), device='cpu')"
   ]
  },
  {
   "cell_type": "code",
   "execution_count": 235,
   "metadata": {},
   "outputs": [
    {
     "data": {
      "text/plain": [
       "torch.Size([4, 1, 1025])"
      ]
     },
     "execution_count": 235,
     "metadata": {},
     "output_type": "execute_result"
    }
   ],
   "source": [
    "a = torch.ones([4, 1, 1025, 4])\n",
    "b = torch.mean(a, -1)\n",
    "b.shape"
   ]
  },
  {
   "cell_type": "code",
   "execution_count": 167,
   "metadata": {},
   "outputs": [
    {
     "data": {
      "text/plain": [
       "(tensor([ 10,  50, 100, 200]), tensor([ 20,  80, 150, 400]))"
      ]
     },
     "execution_count": 167,
     "metadata": {},
     "output_type": "execute_result"
    }
   ],
   "source": [
    "mask_start = torch.tensor(list([10, 50, 100, 200]))\n",
    "mask_end = torch.tensor(list([20, 80, 150, 400]))\n",
    "mask_start, mask_end"
   ]
  },
  {
   "cell_type": "code",
   "execution_count": 246,
   "metadata": {},
   "outputs": [
    {
     "name": "stdout",
     "output_type": "stream",
     "text": [
      "torch.Size([4, 1, 1025, 4])\n"
     ]
    },
    {
     "data": {
      "text/plain": [
       "tensor(1.)"
      ]
     },
     "execution_count": 246,
     "metadata": {},
     "output_type": "execute_result"
    }
   ],
   "source": [
    "a = torch.ones([4, 1, 1025, 4])\n",
    "print(a.shape)\n",
    "torch.mean(a.float())"
   ]
  },
  {
   "cell_type": "code",
   "execution_count": null,
   "metadata": {},
   "outputs": [],
   "source": [
    "class Scale1_Discriminator(nn.Module):\n",
    "    def __init__(self, opt):\n",
    "        super(scale_Discriminator, self).__init__()\n",
    "        # Down sampling\n",
    "        self.block1 = Conv2dLayer(1, opt.latent_channels, 4, 1, 3, pad_type = opt.pad_type, activation = opt.activation, norm = 'none', sn = True)\n",
    "        self.block2 = Conv2dLayer(opt.latent_channels, opt.latent_channels * 2, 4, (2, 1), 1, pad_type = opt.pad_type, activation = opt.activation, norm = opt.norm, sn = True)\n",
    "        self.block3 = Conv2dLayer(opt.latent_channels * 2, opt.latent_channels * 4, 4, (2, 1), 1, pad_type = opt.pad_type, activation = opt.activation, norm = opt.norm, sn = True)\n",
    "        self.block4 = Conv2dLayer(opt.latent_channels * 4, opt.latent_channels * 4, 4, 2, 1, pad_type = opt.pad_type, activation = opt.activation, norm = opt.norm, sn = True)\n",
    "        self.block5 = Conv2dLayer(opt.latent_channels * 4, opt.latent_channels * 4, 4, 2, 1, pad_type = opt.pad_type, activation = opt.activation, norm = opt.norm, sn = True)\n",
    "        self.block6 = Conv2dLayer(opt.latent_channels * 4, 1, 4, 2, 1, pad_type = opt.pad_type, activation = 'none', norm = 'none', sn = True)\n",
    "\n",
    "    \n",
    "    def forward(self, img):\n",
    "        # the input x should contain 4 channels because it is a combination of recon image and mask\n",
    "        x = img\n",
    "        x = self.block1(x)                                      # out: [B, 64, 256, 256]\n",
    "        x = self.block2(x)                                      # out: [B, 128, 128, 128]\n",
    "        x = self.block3(x)                                      # out: [B, 256, 64, 64]\n",
    "        x = self.block4(x)                                      # out: [B, 256, 32, 32]\n",
    "        x = self.block5(x)                                      # out: [B, 256, 16, 16]\n",
    "        x = self.block6(x)                                      # out: [B, 256, 8, 8]\n",
    "        return x"
   ]
  },
  {
   "cell_type": "code",
   "execution_count": null,
   "metadata": {},
   "outputs": [],
   "source": [
    "discriminator = scale_Discriminator(opt)\n",
    "summary(discriminator, (4, 1, 1024, 428), device='cpu')"
   ]
  },
  {
   "cell_type": "code",
   "execution_count": 168,
   "metadata": {},
   "outputs": [
    {
     "ename": "TypeError",
     "evalue": "randint() received an invalid combination of arguments - got (Tensor, Tensor, int), but expected one of:\n * (int high, tuple of ints size, *, torch.Generator generator, Tensor out, torch.dtype dtype, torch.layout layout, torch.device device, bool requires_grad)\n * (int low, int high, tuple of ints size, *, torch.Generator generator, Tensor out, torch.dtype dtype, torch.layout layout, torch.device device, bool requires_grad)\n",
     "output_type": "error",
     "traceback": [
      "\u001b[0;31m---------------------------------------------------------------------------\u001b[0m",
      "\u001b[0;31mTypeError\u001b[0m                                 Traceback (most recent call last)",
      "\u001b[0;32m<ipython-input-168-675a190dcd0b>\u001b[0m in \u001b[0;36m<module>\u001b[0;34m\u001b[0m\n\u001b[0;32m----> 1\u001b[0;31m \u001b[0mtorch\u001b[0m\u001b[0;34m.\u001b[0m\u001b[0mrandint\u001b[0m\u001b[0;34m(\u001b[0m\u001b[0mmask_start\u001b[0m\u001b[0;34m,\u001b[0m \u001b[0mmask_end\u001b[0m\u001b[0;34m,\u001b[0m \u001b[0;36m1\u001b[0m\u001b[0;34m)\u001b[0m\u001b[0;34m\u001b[0m\u001b[0;34m\u001b[0m\u001b[0m\n\u001b[0m",
      "\u001b[0;31mTypeError\u001b[0m: randint() received an invalid combination of arguments - got (Tensor, Tensor, int), but expected one of:\n * (int high, tuple of ints size, *, torch.Generator generator, Tensor out, torch.dtype dtype, torch.layout layout, torch.device device, bool requires_grad)\n * (int low, int high, tuple of ints size, *, torch.Generator generator, Tensor out, torch.dtype dtype, torch.layout layout, torch.device device, bool requires_grad)\n"
     ]
    }
   ],
   "source": [
    "torch.randint(mask_start, mask_end, 1)"
   ]
  },
  {
   "cell_type": "code",
   "execution_count": 260,
   "metadata": {},
   "outputs": [
    {
     "data": {
      "text/plain": [
       "tensor([ 10,  50, 100, 200])"
      ]
     },
     "execution_count": 260,
     "metadata": {},
     "output_type": "execute_result"
    }
   ],
   "source": [
    "frame_length = 16\n",
    "spec_start = mask_start\n",
    "spec_start"
   ]
  },
  {
   "cell_type": "code",
   "execution_count": 258,
   "metadata": {},
   "outputs": [
    {
     "ename": "RuntimeError",
     "evalue": "The size of tensor a (16) must match the size of tensor b (4) at non-singleton dimension 1",
     "output_type": "error",
     "traceback": [
      "\u001b[0;31m---------------------------------------------------------------------------\u001b[0m",
      "\u001b[0;31mRuntimeError\u001b[0m                              Traceback (most recent call last)",
      "\u001b[0;32m<ipython-input-258-504b26cee4d8>\u001b[0m in \u001b[0;36m<module>\u001b[0;34m\u001b[0m\n\u001b[1;32m      1\u001b[0m \u001b[0mindex_matrix\u001b[0m \u001b[0;34m=\u001b[0m \u001b[0mtorch\u001b[0m\u001b[0;34m.\u001b[0m\u001b[0mzeros\u001b[0m\u001b[0;34m(\u001b[0m\u001b[0;34m[\u001b[0m\u001b[0;36m4\u001b[0m\u001b[0;34m,\u001b[0m \u001b[0mframe_length\u001b[0m\u001b[0;34m]\u001b[0m\u001b[0;34m,\u001b[0m \u001b[0mrequires_grad\u001b[0m\u001b[0;34m=\u001b[0m\u001b[0;32mFalse\u001b[0m\u001b[0;34m)\u001b[0m\u001b[0;34m\u001b[0m\u001b[0;34m\u001b[0m\u001b[0m\n\u001b[1;32m      2\u001b[0m \u001b[0mindex_matrix\u001b[0m \u001b[0;34m+=\u001b[0m \u001b[0mtorch\u001b[0m\u001b[0;34m.\u001b[0m\u001b[0marange\u001b[0m\u001b[0;34m(\u001b[0m\u001b[0;36m0\u001b[0m\u001b[0;34m,\u001b[0m \u001b[0mframe_length\u001b[0m\u001b[0;34m)\u001b[0m\u001b[0;34m\u001b[0m\u001b[0;34m\u001b[0m\u001b[0m\n\u001b[0;32m----> 3\u001b[0;31m \u001b[0mindex_matrix\u001b[0m \u001b[0;34m+=\u001b[0m \u001b[0mspec_start\u001b[0m\u001b[0;34m\u001b[0m\u001b[0;34m\u001b[0m\u001b[0m\n\u001b[0m\u001b[1;32m      4\u001b[0m \u001b[0mindex_matrix\u001b[0m \u001b[0;34m=\u001b[0m \u001b[0mindex_matrix\u001b[0m\u001b[0;34m.\u001b[0m\u001b[0munsqueeze\u001b[0m\u001b[0;34m(\u001b[0m\u001b[0;36m1\u001b[0m\u001b[0;34m)\u001b[0m\u001b[0;34m.\u001b[0m\u001b[0munsqueeze\u001b[0m\u001b[0;34m(\u001b[0m\u001b[0;36m1\u001b[0m\u001b[0;34m)\u001b[0m\u001b[0;34m\u001b[0m\u001b[0;34m\u001b[0m\u001b[0m\n\u001b[1;32m      5\u001b[0m \u001b[0mindex_matrix\u001b[0m \u001b[0;34m=\u001b[0m \u001b[0mindex_matrix\u001b[0m\u001b[0;34m.\u001b[0m\u001b[0mexpand\u001b[0m\u001b[0;34m(\u001b[0m\u001b[0mfake_data\u001b[0m\u001b[0;34m.\u001b[0m\u001b[0mshape\u001b[0m\u001b[0;34m[\u001b[0m\u001b[0;36m0\u001b[0m\u001b[0;34m]\u001b[0m\u001b[0;34m,\u001b[0m \u001b[0mfake_data\u001b[0m\u001b[0;34m.\u001b[0m\u001b[0mshape\u001b[0m\u001b[0;34m[\u001b[0m\u001b[0;36m1\u001b[0m\u001b[0;34m]\u001b[0m\u001b[0;34m,\u001b[0m \u001b[0;36m128\u001b[0m\u001b[0;34m,\u001b[0m \u001b[0mindex_matrix\u001b[0m\u001b[0;34m.\u001b[0m\u001b[0mshape\u001b[0m\u001b[0;34m[\u001b[0m\u001b[0;34m-\u001b[0m\u001b[0;36m1\u001b[0m\u001b[0;34m]\u001b[0m\u001b[0;34m)\u001b[0m\u001b[0;34m\u001b[0m\u001b[0;34m\u001b[0m\u001b[0m\n",
      "\u001b[0;31mRuntimeError\u001b[0m: The size of tensor a (16) must match the size of tensor b (4) at non-singleton dimension 1"
     ]
    }
   ],
   "source": [
    "index_matrix = torch.zeros([4, frame_length], requires_grad=False)\n",
    "index_matrix += torch.arange(0, frame_length)\n",
    "index_matrix += spec_start.unsqueeze(-1)\n",
    "index_matrix = index_matrix.unsqueeze(1).unsqueeze(1)\n",
    "index_matrix = index_matrix.expand(fake_data.shape[0], fake_data.shape[1], 128, index_matrix.shape[-1])\n",
    "index_matrix = index_matrix.type(torch.int64)\n",
    "\n",
    "fake_data = db_to_linear(fake_data, opt)\n",
    "fake_data_pad = torch.nn.functional.pad(fake_data, (0, 0, 0, 1), mode='constant', value=0)\n",
    "mel_fake_data = audio_utils.convert_mel_scale(fake_data_pad)\n",
    "log_mel_fake_data = torch.log10(mel_fake_data+1e-7)\n",
    "mel_spec_22050 = torch.gather(log_mel_fake_data, -1, index_matrix)\n"
   ]
  },
  {
   "cell_type": "code",
   "execution_count": 265,
   "metadata": {},
   "outputs": [
    {
     "data": {
      "text/plain": [
       "torch.Size([4, 16])"
      ]
     },
     "execution_count": 265,
     "metadata": {},
     "output_type": "execute_result"
    }
   ],
   "source": [
    "index_matrix = torch.zeros([4, frame_length], requires_grad=False)\n",
    "index_matrix += torch.arange(0, frame_length)\n",
    "index_matrix += spec_start.unsqueeze(-1)\n",
    "index_matrix.shape"
   ]
  },
  {
   "cell_type": "code",
   "execution_count": 264,
   "metadata": {},
   "outputs": [
    {
     "data": {
      "text/plain": [
       "tensor([ 10,  50, 100, 200])"
      ]
     },
     "execution_count": 264,
     "metadata": {},
     "output_type": "execute_result"
    }
   ],
   "source": [
    "spec_start"
   ]
  },
  {
   "cell_type": "code",
   "execution_count": 145,
   "metadata": {},
   "outputs": [
    {
     "data": {
      "text/plain": [
       "120.67999999999999"
      ]
     },
     "execution_count": 145,
     "metadata": {},
     "output_type": "execute_result"
    }
   ],
   "source": [
    "spec_end_start = mask_start + 0.5 * frame_length\n",
    "spec_end_end = mask_end + 0.5 * frame_length\n",
    "spec_end = torch.randint(spec_end_start, spec_end_end+1, 1)\n",
    "spec_end = torch.min(spec_end, img.shape[-1])\n",
    "spec_start = spec_end - frame_length\n",
    "spec_start = torch.max(spec_start, 0)"
   ]
  },
  {
   "cell_type": "code",
   "execution_count": 266,
   "metadata": {},
   "outputs": [
    {
     "data": {
      "text/plain": [
       "0.16985138004246284"
      ]
     },
     "execution_count": 266,
     "metadata": {},
     "output_type": "execute_result"
    }
   ],
   "source": [
    "5 / 471 * 16"
   ]
  },
  {
   "cell_type": "code",
   "execution_count": 193,
   "metadata": {},
   "outputs": [
    {
     "data": {
      "text/plain": [
       "tensor([ 11,  67, 110, 281], dtype=torch.int32)"
      ]
     },
     "execution_count": 193,
     "metadata": {},
     "output_type": "execute_result"
    }
   ],
   "source": [
    "170ms, 340ms, 680ms, 1320ms"
   ]
  },
  {
   "cell_type": "code",
   "execution_count": 172,
   "metadata": {},
   "outputs": [
    {
     "data": {
      "text/plain": [
       "tensor([ 10,  50, 100, 200])"
      ]
     },
     "execution_count": 172,
     "metadata": {},
     "output_type": "execute_result"
    }
   ],
   "source": [
    "mask_start"
   ]
  },
  {
   "cell_type": "code",
   "execution_count": 173,
   "metadata": {},
   "outputs": [
    {
     "data": {
      "text/plain": [
       "tensor([ 20,  80, 150, 400])"
      ]
     },
     "execution_count": 173,
     "metadata": {},
     "output_type": "execute_result"
    }
   ],
   "source": [
    "mask_end"
   ]
  },
  {
   "cell_type": "code",
   "execution_count": 175,
   "metadata": {},
   "outputs": [
    {
     "data": {
      "text/plain": [
       "tensor([ 10,  30,  50, 200])"
      ]
     },
     "execution_count": 175,
     "metadata": {},
     "output_type": "execute_result"
    }
   ],
   "source": [
    "mask_region_length = mask_end - mask_start\n",
    "mask_region_length"
   ]
  },
  {
   "cell_type": "code",
   "execution_count": 271,
   "metadata": {},
   "outputs": [],
   "source": [
    "mask = torch.zeros([1, 1, 1025, 431])\n",
    "mask[...,300:] = 1"
   ]
  },
  {
   "cell_type": "code",
   "execution_count": 281,
   "metadata": {},
   "outputs": [
    {
     "data": {
      "text/plain": [
       "tensor([[[[ 0.2558,  0.3840,  0.5906,  ...,  1.4871,  0.9725,  0.7602],\n",
       "          [ 1.2828,  3.1549,  1.8883,  ...,  1.5925,  1.7560, -0.5502],\n",
       "          [ 1.7750, -1.3085,  2.3714,  ...,  0.3994,  0.6844, -1.2932],\n",
       "          ...,\n",
       "          [ 0.9250,  0.8512, -0.6145,  ..., -0.1641,  1.2646,  0.6053],\n",
       "          [ 1.1421,  0.0322,  2.3493,  ...,  0.3243,  0.6510,  0.7888],\n",
       "          [ 1.0212,  2.9284,  1.3780,  ...,  0.1066,  1.8088,  2.3443]]]])"
      ]
     },
     "execution_count": 281,
     "metadata": {},
     "output_type": "execute_result"
    }
   ],
   "source": [
    "randn = torch.randn(mask.shape) + 1\n",
    "randn"
   ]
  },
  {
   "cell_type": "code",
   "execution_count": 282,
   "metadata": {},
   "outputs": [],
   "source": [
    "mask2 = mask*randn"
   ]
  },
  {
   "cell_type": "code",
   "execution_count": 283,
   "metadata": {},
   "outputs": [
    {
     "data": {
      "text/plain": [
       "tensor([[[[ 0.0000,  0.0000,  0.0000,  ...,  1.4871,  0.9725,  0.7602],\n",
       "          [ 0.0000,  0.0000,  0.0000,  ...,  1.5925,  1.7560, -0.5502],\n",
       "          [ 0.0000, -0.0000,  0.0000,  ...,  0.3994,  0.6844, -1.2932],\n",
       "          ...,\n",
       "          [ 0.0000,  0.0000, -0.0000,  ..., -0.1641,  1.2646,  0.6053],\n",
       "          [ 0.0000,  0.0000,  0.0000,  ...,  0.3243,  0.6510,  0.7888],\n",
       "          [ 0.0000,  0.0000,  0.0000,  ...,  0.1066,  1.8088,  2.3443]]]])"
      ]
     },
     "execution_count": 283,
     "metadata": {},
     "output_type": "execute_result"
    }
   ],
   "source": [
    "mask2"
   ]
  },
  {
   "cell_type": "code",
   "execution_count": 280,
   "metadata": {},
   "outputs": [
    {
     "data": {
      "text/plain": [
       "tensor([[[[0., 0., 0.,  ..., 1., 1., 1.],\n",
       "          [0., 0., 0.,  ..., 1., 1., 1.],\n",
       "          [0., 0., 0.,  ..., 1., 1., 1.],\n",
       "          ...,\n",
       "          [0., 0., 0.,  ..., 1., 1., 1.],\n",
       "          [0., 0., 0.,  ..., 1., 1., 1.],\n",
       "          [0., 0., 0.,  ..., 1., 1., 1.]]]])"
      ]
     },
     "execution_count": 280,
     "metadata": {},
     "output_type": "execute_result"
    }
   ],
   "source": [
    "mask"
   ]
  },
  {
   "cell_type": "code",
   "execution_count": 284,
   "metadata": {},
   "outputs": [
    {
     "data": {
      "text/plain": [
       "True"
      ]
     },
     "execution_count": 284,
     "metadata": {},
     "output_type": "execute_result"
    }
   ],
   "source": [
    "-0.0000 == 0"
   ]
  },
  {
   "cell_type": "code",
   "execution_count": null,
   "metadata": {},
   "outputs": [],
   "source": []
  }
 ],
 "metadata": {
  "kernelspec": {
   "display_name": "Python 3",
   "language": "python",
   "name": "python3"
  },
  "language_info": {
   "codemirror_mode": {
    "name": "ipython",
    "version": 3
   },
   "file_extension": ".py",
   "mimetype": "text/x-python",
   "name": "python",
   "nbconvert_exporter": "python",
   "pygments_lexer": "ipython3",
   "version": "3.7.7"
  }
 },
 "nbformat": 4,
 "nbformat_minor": 4
}
