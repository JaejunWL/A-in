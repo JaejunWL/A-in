{
 "cells": [
  {
   "cell_type": "code",
   "execution_count": 1,
   "metadata": {},
   "outputs": [],
   "source": [
    "import torch\n",
    "import torch.nn as nn\n",
    "import torch.nn.init as init\n",
    "from torchinfo import summary\n",
    "\n",
    "import easydict\n",
    "\n",
    "from network_module import *\n"
   ]
  },
  {
   "cell_type": "code",
   "execution_count": 2,
   "metadata": {},
   "outputs": [],
   "source": [
    "opt = easydict.EasyDict({\n",
    "    \"data_dir\": '../dataset',\n",
    "    \"input_length\": 220500,\n",
    "    \"image_height\": 1025,\n",
    "    \"image_width\": 431,\n",
    "    \"bbox_shape\": 120,\n",
    "    \"mask_type\": 'time_masking',\n",
    "    \"in_channels\" : 2,\n",
    "    \"out_channels\" : 1,\n",
    "    \"latent_channels\" : 32,\n",
    "    \"pad_type\": 'zero',\n",
    "    \"activation\": 'lrelu',\n",
    "    \"norm\":'in',\n",
    "    \"init_type\":'xavier',\n",
    "    \"init_gain\":0.02,\n",
    "    \"stage_num\": 1,\n",
    "    \"batch_size\": 4,\n",
    "    })"
   ]
  },
  {
   "cell_type": "code",
   "execution_count": 9,
   "metadata": {},
   "outputs": [],
   "source": [
    "class PatchDiscriminator(nn.Module):\n",
    "    def __init__(self, opt):\n",
    "        super(PatchDiscriminator, self).__init__()\n",
    "        # Down sampling\n",
    "        self.block1 = Conv2dLayer(opt.in_channels, opt.latent_channels, 7, 1, 3, pad_type = opt.pad_type, activation = opt.activation, norm = 'none', sn = 0)\n",
    "        self.block2 = Conv2dLayer(opt.latent_channels, opt.latent_channels * 2, 4, 2, 1, pad_type = opt.pad_type, activation = opt.activation, norm = opt.norm, sn = 0)\n",
    "        self.block3 = Conv2dLayer(opt.latent_channels * 2, opt.latent_channels * 4, 4, 2, 1, pad_type = opt.pad_type, activation = opt.activation, norm = opt.norm, sn = 0)\n",
    "        self.block4 = Conv2dLayer(opt.latent_channels * 4, opt.latent_channels * 4, 4, 2, 1, pad_type = opt.pad_type, activation = opt.activation, norm = opt.norm, sn = 0)\n",
    "        self.block5 = Conv2dLayer(opt.latent_channels * 4, opt.latent_channels * 4, 4, 2, 1, pad_type = opt.pad_type, activation = opt.activation, norm = opt.norm, sn = 0)\n",
    "        self.block6 = Conv2dLayer(opt.latent_channels * 4, 1, 4, 2, 1, pad_type = opt.pad_type, activation = 'none', norm = 'none', sn = 0)\n",
    "        \n",
    "    def forward(self, img, mask):\n",
    "        # the input x should contain 4 channels because it is a combination of recon image and mask\n",
    "        x = torch.cat((img, mask), 1)\n",
    "        x = self.block1(x)                                      # out: [B, 64, 256, 256]\n",
    "        x = self.block2(x)                                      # out: [B, 128, 128, 128]\n",
    "        x = self.block3(x)                                      # out: [B, 256, 64, 64]\n",
    "        x = self.block4(x)                                      # out: [B, 256, 32, 32]\n",
    "        x = self.block5(x)                                      # out: [B, 256, 16, 16]\n",
    "        x = self.block6(x)                                      # out: [B, 256, 8, 8]\n",
    "        return x"
   ]
  },
  {
   "cell_type": "code",
   "execution_count": 10,
   "metadata": {},
   "outputs": [
    {
     "data": {
      "text/plain": [
       "==========================================================================================\n",
       "Layer (type:depth-idx)                   Output Shape              Param #\n",
       "==========================================================================================\n",
       "PatchDiscriminator                       --                        --\n",
       "├─Conv2dLayer: 1-1                       [4, 32, 1024, 428]        --\n",
       "│    └─ZeroPad2d: 2-1                    [4, 2, 1030, 434]         --\n",
       "│    └─Conv2d: 2-2                       [4, 32, 1024, 428]        3,168\n",
       "│    └─LeakyReLU: 2-3                    [4, 32, 1024, 428]        --\n",
       "├─Conv2dLayer: 1-2                       [4, 64, 512, 214]         --\n",
       "│    └─ZeroPad2d: 2-4                    [4, 32, 1026, 430]        --\n",
       "│    └─Conv2d: 2-5                       [4, 64, 512, 214]         32,832\n",
       "│    └─InstanceNorm2d: 2-6               [4, 64, 512, 214]         --\n",
       "│    └─LeakyReLU: 2-7                    [4, 64, 512, 214]         --\n",
       "├─Conv2dLayer: 1-3                       [4, 128, 256, 107]        --\n",
       "│    └─ZeroPad2d: 2-8                    [4, 64, 514, 216]         --\n",
       "│    └─Conv2d: 2-9                       [4, 128, 256, 107]        131,200\n",
       "│    └─InstanceNorm2d: 2-10              [4, 128, 256, 107]        --\n",
       "│    └─LeakyReLU: 2-11                   [4, 128, 256, 107]        --\n",
       "├─Conv2dLayer: 1-4                       [4, 128, 128, 53]         --\n",
       "│    └─ZeroPad2d: 2-12                   [4, 128, 258, 109]        --\n",
       "│    └─Conv2d: 2-13                      [4, 128, 128, 53]         262,272\n",
       "│    └─InstanceNorm2d: 2-14              [4, 128, 128, 53]         --\n",
       "│    └─LeakyReLU: 2-15                   [4, 128, 128, 53]         --\n",
       "├─Conv2dLayer: 1-5                       [4, 128, 64, 26]          --\n",
       "│    └─ZeroPad2d: 2-16                   [4, 128, 130, 55]         --\n",
       "│    └─Conv2d: 2-17                      [4, 128, 64, 26]          262,272\n",
       "│    └─InstanceNorm2d: 2-18              [4, 128, 64, 26]          --\n",
       "│    └─LeakyReLU: 2-19                   [4, 128, 64, 26]          --\n",
       "├─Conv2dLayer: 1-6                       [4, 1, 32, 13]            --\n",
       "│    └─ZeroPad2d: 2-20                   [4, 128, 66, 28]          --\n",
       "│    └─Conv2d: 2-21                      [4, 1, 32, 13]            2,049\n",
       "==========================================================================================\n",
       "Total params: 693,793\n",
       "Trainable params: 693,793\n",
       "Non-trainable params: 0\n",
       "Total mult-adds (G): 43.18\n",
       "==========================================================================================\n",
       "Input size (MB): 14.02\n",
       "Forward/backward pass size (MB): 820.00\n",
       "Params size (MB): 2.78\n",
       "Estimated Total Size (MB): 836.80\n",
       "=========================================================================================="
      ]
     },
     "execution_count": 10,
     "metadata": {},
     "output_type": "execute_result"
    }
   ],
   "source": [
    "discriminator = PatchDiscriminator(opt)\n",
    "summary(discriminator, [(4, 1, 1024, 428), (4, 1, 1024, 428)], device='cpu')"
   ]
  },
  {
   "cell_type": "code",
   "execution_count": 8,
   "metadata": {},
   "outputs": [
    {
     "ename": "NameError",
     "evalue": "name 'jj_Discriminator' is not defined",
     "output_type": "error",
     "traceback": [
      "\u001b[0;31m---------------------------------------------------------------------------\u001b[0m",
      "\u001b[0;31mNameError\u001b[0m                                 Traceback (most recent call last)",
      "\u001b[0;32m<ipython-input-8-f0d28877a37e>\u001b[0m in \u001b[0;36m<module>\u001b[0;34m\u001b[0m\n\u001b[0;32m----> 1\u001b[0;31m \u001b[0mdiscriminator\u001b[0m \u001b[0;34m=\u001b[0m \u001b[0mjj_Discriminator\u001b[0m\u001b[0;34m(\u001b[0m\u001b[0mopt\u001b[0m\u001b[0;34m)\u001b[0m\u001b[0;34m\u001b[0m\u001b[0;34m\u001b[0m\u001b[0m\n\u001b[0m",
      "\u001b[0;31mNameError\u001b[0m: name 'jj_Discriminator' is not defined"
     ]
    }
   ],
   "source": [
    "discriminator = jj_Discriminator(opt)\n"
   ]
  },
  {
   "cell_type": "code",
   "execution_count": 47,
   "metadata": {},
   "outputs": [
    {
     "name": "stdout",
     "output_type": "stream",
     "text": [
      "----------------------------------------------------------------\n",
      "        Layer (type)               Output Shape         Param #\n",
      "================================================================\n",
      "            Conv2d-1         [-1, 32, 512, 214]           1,056\n",
      "         LeakyReLU-2         [-1, 32, 512, 214]               0\n",
      "            Conv2d-3         [-1, 64, 256, 107]          32,832\n",
      "         LeakyReLU-4         [-1, 64, 256, 107]               0\n",
      "            Conv2d-5         [-1, 128, 128, 53]         131,200\n",
      "         LeakyReLU-6         [-1, 128, 128, 53]               0\n",
      "            Conv2d-7          [-1, 256, 64, 26]         524,544\n",
      "           Sigmoid-8          [-1, 256, 64, 26]               0\n",
      "            Linear-9                    [-1, 1]         425,985\n",
      "          Sigmoid-10                    [-1, 1]               0\n",
      "================================================================\n",
      "Total params: 1,115,617\n",
      "Trainable params: 1,115,617\n",
      "Non-trainable params: 0\n",
      "----------------------------------------------------------------\n",
      "Input size (MB): 732736.00\n",
      "Forward/backward pass size (MB): 100.00\n",
      "Params size (MB): 4.26\n",
      "Estimated Total Size (MB): 732840.26\n",
      "----------------------------------------------------------------\n"
     ]
    }
   ],
   "source": [
    "summary(discriminator, [(1, 1024, 428), (1, 1024, 428)], device='cpu')"
   ]
  },
  {
   "cell_type": "code",
   "execution_count": 48,
   "metadata": {},
   "outputs": [],
   "source": [
    "a = torch.rand([4, 1])"
   ]
  },
  {
   "cell_type": "code",
   "execution_count": 50,
   "metadata": {},
   "outputs": [
    {
     "data": {
      "text/plain": [
       "(tensor(0.5344), tensor(0.5344))"
      ]
     },
     "execution_count": 50,
     "metadata": {},
     "output_type": "execute_result"
    }
   ],
   "source": [
    "torch.mean(a), a.mean()"
   ]
  },
  {
   "cell_type": "code",
   "execution_count": 11,
   "metadata": {},
   "outputs": [],
   "source": [
    "class PatchDiscriminator(nn.Module):\n",
    "    def __init__(self, opt):\n",
    "        super(PatchDiscriminator, self).__init__()\n",
    "        # Down sampling\n",
    "        self.block1 = Conv2dLayer(opt.in_channels, opt.latent_channels, 7, 1, 3, pad_type = opt.pad_type, activation = opt.activation, norm = 'none', sn = 0)\n",
    "        self.block2 = Conv2dLayer(opt.latent_channels, opt.latent_channels * 2, 4, 2, 1, pad_type = opt.pad_type, activation = opt.activation, norm = opt.norm, sn = 0)\n",
    "        self.block3 = Conv2dLayer(opt.latent_channels * 2, opt.latent_channels * 4, 4, 2, 1, pad_type = opt.pad_type, activation = opt.activation, norm = opt.norm, sn = 0)\n",
    "        self.block4 = Conv2dLayer(opt.latent_channels * 4, opt.latent_channels * 4, 4, 2, 1, pad_type = opt.pad_type, activation = opt.activation, norm = opt.norm, sn = 0)\n",
    "        self.block5 = Conv2dLayer(opt.latent_channels * 4, opt.latent_channels * 4, 4, 2, 1, pad_type = opt.pad_type, activation = opt.activation, norm = opt.norm, sn = 0)\n",
    "        self.block6 = Conv2dLayer(opt.latent_channels * 4, 1, 4, 2, 1, pad_type = opt.pad_type, activation = opt.activation, norm = 'none', sn = 0)\n",
    "        self.features_to_prob = nn.Sequential(\n",
    "            nn.Linear(32 * 13, 1),\n",
    "            nn.Sigmoid()\n",
    "        )        \n",
    "    def forward(self, img, mask):\n",
    "        # the input x should contain 4 channels because it is a combination of recon image and mask\n",
    "        x1 = torch.cat((img, mask), 1)\n",
    "        x = self.block1(x1)                                      # out: [B, 64, 256, 256]\n",
    "        x = self.block2(x)                                      # out: [B, 128, 128, 128]\n",
    "        x = self.block3(x)                                      # out: [B, 256, 64, 64]\n",
    "        x = self.block4(x)                                      # out: [B, 256, 32, 32]\n",
    "        x = self.block5(x)                                      # out: [B, 256, 16, 16]\n",
    "        x = self.block6(x)                                      # out: [B, 256, 8, 8]\n",
    "        batch_size = x1.shape[0]\n",
    "        x = x.view(batch_size, -1)        \n",
    "        x = self.features_to_prob(x)\n",
    "        return x"
   ]
  },
  {
   "cell_type": "code",
   "execution_count": 12,
   "metadata": {},
   "outputs": [],
   "source": [
    "discriminator = PatchDiscriminator(opt)"
   ]
  },
  {
   "cell_type": "code",
   "execution_count": 14,
   "metadata": {
    "scrolled": true
   },
   "outputs": [
    {
     "data": {
      "text/plain": [
       "==========================================================================================\n",
       "Layer (type:depth-idx)                   Output Shape              Param #\n",
       "==========================================================================================\n",
       "PatchDiscriminator                       --                        --\n",
       "├─Conv2dLayer: 1-1                       [4, 32, 1024, 428]        --\n",
       "│    └─ZeroPad2d: 2-1                    [4, 2, 1030, 434]         --\n",
       "│    └─Conv2d: 2-2                       [4, 32, 1024, 428]        3,168\n",
       "│    └─LeakyReLU: 2-3                    [4, 32, 1024, 428]        --\n",
       "├─Conv2dLayer: 1-2                       [4, 64, 512, 214]         --\n",
       "│    └─ZeroPad2d: 2-4                    [4, 32, 1026, 430]        --\n",
       "│    └─Conv2d: 2-5                       [4, 64, 512, 214]         32,832\n",
       "│    └─InstanceNorm2d: 2-6               [4, 64, 512, 214]         --\n",
       "│    └─LeakyReLU: 2-7                    [4, 64, 512, 214]         --\n",
       "├─Conv2dLayer: 1-3                       [4, 128, 256, 107]        --\n",
       "│    └─ZeroPad2d: 2-8                    [4, 64, 514, 216]         --\n",
       "│    └─Conv2d: 2-9                       [4, 128, 256, 107]        131,200\n",
       "│    └─InstanceNorm2d: 2-10              [4, 128, 256, 107]        --\n",
       "│    └─LeakyReLU: 2-11                   [4, 128, 256, 107]        --\n",
       "├─Conv2dLayer: 1-4                       [4, 128, 128, 53]         --\n",
       "│    └─ZeroPad2d: 2-12                   [4, 128, 258, 109]        --\n",
       "│    └─Conv2d: 2-13                      [4, 128, 128, 53]         262,272\n",
       "│    └─InstanceNorm2d: 2-14              [4, 128, 128, 53]         --\n",
       "│    └─LeakyReLU: 2-15                   [4, 128, 128, 53]         --\n",
       "├─Conv2dLayer: 1-5                       [4, 128, 64, 26]          --\n",
       "│    └─ZeroPad2d: 2-16                   [4, 128, 130, 55]         --\n",
       "│    └─Conv2d: 2-17                      [4, 128, 64, 26]          262,272\n",
       "│    └─InstanceNorm2d: 2-18              [4, 128, 64, 26]          --\n",
       "│    └─LeakyReLU: 2-19                   [4, 128, 64, 26]          --\n",
       "├─Conv2dLayer: 1-6                       [4, 1, 32, 13]            --\n",
       "│    └─ZeroPad2d: 2-20                   [4, 128, 66, 28]          --\n",
       "│    └─Conv2d: 2-21                      [4, 1, 32, 13]            2,049\n",
       "│    └─LeakyReLU: 2-22                   [4, 1, 32, 13]            --\n",
       "├─Sequential: 1-7                        [4, 1]                    --\n",
       "│    └─Linear: 2-23                      [4, 1]                    417\n",
       "│    └─Sigmoid: 2-24                     [4, 1]                    --\n",
       "==========================================================================================\n",
       "Total params: 694,210\n",
       "Trainable params: 694,210\n",
       "Non-trainable params: 0\n",
       "Total mult-adds (G): 43.18\n",
       "==========================================================================================\n",
       "Input size (MB): 14.02\n",
       "Forward/backward pass size (MB): 820.00\n",
       "Params size (MB): 2.78\n",
       "Estimated Total Size (MB): 836.80\n",
       "=========================================================================================="
      ]
     },
     "execution_count": 14,
     "metadata": {},
     "output_type": "execute_result"
    }
   ],
   "source": [
    "summary(discriminator, [(4, 1, 1024, 428), (4, 1, 1024, 428)], device='cpu')"
   ]
  },
  {
   "cell_type": "code",
   "execution_count": 88,
   "metadata": {},
   "outputs": [
    {
     "data": {
      "text/plain": [
       "torch.Size([128, 258, 107])"
      ]
     },
     "execution_count": 88,
     "metadata": {},
     "output_type": "execute_result"
    }
   ],
   "source": [
    "q.shape"
   ]
  },
  {
   "cell_type": "code",
   "execution_count": 53,
   "metadata": {},
   "outputs": [
    {
     "data": {
      "text/plain": [
       "torch.Size([1, 2048, 428])"
      ]
     },
     "execution_count": 53,
     "metadata": {},
     "output_type": "execute_result"
    }
   ],
   "source": [
    "b.shape"
   ]
  },
  {
   "cell_type": "code",
   "execution_count": 38,
   "metadata": {},
   "outputs": [
    {
     "data": {
      "text/plain": [
       "torch.Size([1, 2, 512, 428])"
      ]
     },
     "execution_count": 38,
     "metadata": {},
     "output_type": "execute_result"
    }
   ],
   "source": [
    "first_out.shape"
   ]
  },
  {
   "cell_type": "code",
   "execution_count": 14,
   "metadata": {},
   "outputs": [
    {
     "data": {
      "image/png": "[encoded data removed]",
      "text/plain": [
       "<Figure size 432x288 with 1 Axes>"
      ]
     },
     "metadata": {
      "needs_background": "light"
     },
     "output_type": "display_data"
    }
   ],
   "source": [
    "t = img[0,0,:,:]\n",
    "fig, axs = plt.subplots(1, 1)\n",
    "axs.set_title('Spectrogram (db)')\n",
    "axs.set_ylabel('freq_bin')\n",
    "axs.set_xlabel('frame')\n",
    "im = axs.imshow(librosa.amplitude_to_db(t), origin='lower', aspect='auto')\n",
    "if None:\n",
    "    axs.set_xlim((0, xmax))\n",
    "    fig.colorbar(im, ax=axs)\n",
    "\n",
    "plt.savefig('test.png')"
   ]
  },
  {
   "cell_type": "code",
   "execution_count": null,
   "metadata": {},
   "outputs": [],
   "source": []
  }
 ],
 "metadata": {
  "kernelspec": {
   "display_name": "Python 3",
   "language": "python",
   "name": "python3"
  },
  "language_info": {
   "codemirror_mode": {
    "name": "ipython",
    "version": 3
   },
   "file_extension": ".py",
   "mimetype": "text/x-python",
   "name": "python",
   "nbconvert_exporter": "python",
   "pygments_lexer": "ipython3",
   "version": "3.7.7"
  }
 },
 "nbformat": 4,
 "nbformat_minor": 4
}
